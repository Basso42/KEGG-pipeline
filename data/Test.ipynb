{
 "cells": [
  {
   "cell_type": "code",
   "execution_count": 1,
   "id": "7006d564-43dd-4bb2-86d5-44ffd89a9a56",
   "metadata": {},
   "outputs": [],
   "source": [
    "import polars as pl"
   ]
  },
  {
   "cell_type": "code",
   "execution_count": 9,
   "id": "800feca7-fd67-484d-8c92-3e0fc669d40c",
   "metadata": {},
   "outputs": [],
   "source": [
    "train = pl.read_parquet('/home/onyxia/work/KEGG_Pipeline/data/train_dataset.parquet')\n",
    "test =pl.read_parquet('/home/onyxia/work/KEGG_Pipeline/data/test_dataset.parquet')"
   ]
  },
  {
   "cell_type": "code",
   "execution_count": 7,
   "id": "1e3b70ea-2d9f-4e8f-bb00-8f5ffd26e323",
   "metadata": {},
   "outputs": [],
   "source": [
    "train_filtered= train.filter(pl.col(\"AA_seq\") == 'MKKVVSLLFVAGLFLAACGNSATSTKESKSTQQEIAVSAPGELSTLDSAQYTDVNSSDMIGQVSEGLYRSGKDGNPELAMAKEDPKVSEDGLTYTFKLREAKYSDGTPVRAQDFVYAFQNVVDPKTTSSSSHRMDIFKNGEKIRNGELPVDQLGVKALDDQTLELDLVAPAPFLSEILTGTPFMPKQEKFASEKGKAYGTSADNFVGNGPFVIKG')"
   ]
  },
  {
   "cell_type": "code",
   "execution_count": 8,
   "id": "e85d2cc8-d666-41ae-af0a-256efd89e9bc",
   "metadata": {},
   "outputs": [
    {
     "data": {
      "text/html": [
       "<div><style>\n",
       ".dataframe > thead > tr,\n",
       ".dataframe > tbody > tr {\n",
       "  text-align: right;\n",
       "  white-space: pre-wrap;\n",
       "}\n",
       "</style>\n",
       "<small>shape: (0, 4)</small><table border=\"1\" class=\"dataframe\"><thead><tr><th>gene_id</th><th>K0</th><th>AA_seq</th><th>label</th></tr><tr><td>str</td><td>str</td><td>str</td><td>i64</td></tr></thead><tbody></tbody></table></div>"
      ],
      "text/plain": [
       "shape: (0, 4)\n",
       "┌─────────┬─────┬────────┬───────┐\n",
       "│ gene_id ┆ K0  ┆ AA_seq ┆ label │\n",
       "│ ---     ┆ --- ┆ ---    ┆ ---   │\n",
       "│ str     ┆ str ┆ str    ┆ i64   │\n",
       "╞═════════╪═════╪════════╪═══════╡\n",
       "└─────────┴─────┴────────┴───────┘"
      ]
     },
     "execution_count": 8,
     "metadata": {},
     "output_type": "execute_result"
    }
   ],
   "source": [
    "train_filtered"
   ]
  },
  {
   "cell_type": "code",
   "execution_count": 10,
   "id": "11c09f05-9540-4c84-94de-4bafdb1b5460",
   "metadata": {},
   "outputs": [
    {
     "data": {
      "text/html": [
       "<div><style>\n",
       ".dataframe > thead > tr,\n",
       ".dataframe > tbody > tr {\n",
       "  text-align: right;\n",
       "  white-space: pre-wrap;\n",
       "}\n",
       "</style>\n",
       "<small>shape: (1, 4)</small><table border=\"1\" class=\"dataframe\"><thead><tr><th>gene_id</th><th>K0</th><th>AA_seq</th><th>label</th></tr><tr><td>str</td><td>str</td><td>str</td><td>i64</td></tr></thead><tbody><tr><td>&quot;ecec:NCTC12421…</td><td>&quot;K15580&quot;</td><td>&quot;MKKVVSLLFVAGLF…</td><td>6721</td></tr></tbody></table></div>"
      ],
      "text/plain": [
       "shape: (1, 4)\n",
       "┌──────────────────────┬────────┬───────────────────────────────────┬───────┐\n",
       "│ gene_id              ┆ K0     ┆ AA_seq                            ┆ label │\n",
       "│ ---                  ┆ ---    ┆ ---                               ┆ ---   │\n",
       "│ str                  ┆ str    ┆ str                               ┆ i64   │\n",
       "╞══════════════════════╪════════╪═══════════════════════════════════╪═══════╡\n",
       "│ ecec:NCTC12421_00509 ┆ K15580 ┆ MKKVVSLLFVAGLFLAACGNSATSTKESKSTQ… ┆ 6721  │\n",
       "└──────────────────────┴────────┴───────────────────────────────────┴───────┘"
      ]
     },
     "execution_count": 10,
     "metadata": {},
     "output_type": "execute_result"
    }
   ],
   "source": [
    "test.filter(pl.col(\"AA_seq\") == 'MKKVVSLLFVAGLFLAACGNSATSTKESKSTQQEIAVSAPGELSTLDSAQYTDVNSSDMIGQVSEGLYRSGKDGNPELAMAKEDPKVSEDGLTYTFKLREAKYSDGTPVRAQDFVYAFQNVVDPKTTSSSSHRMDIFKNGEKIRNGELPVDQLGVKALDDQTLELDLVAPAPFLSEILTGTPFMPKQEKFASEKGKAYGTSADNFVGNGPFVIKG')"
   ]
  }
 ],
 "metadata": {
  "kernelspec": {
   "display_name": "Python 3 (ipykernel)",
   "language": "python",
   "name": "python3"
  },
  "language_info": {
   "codemirror_mode": {
    "name": "ipython",
    "version": 3
   },
   "file_extension": ".py",
   "mimetype": "text/x-python",
   "name": "python",
   "nbconvert_exporter": "python",
   "pygments_lexer": "ipython3",
   "version": "3.11.6"
  }
 },
 "nbformat": 4,
 "nbformat_minor": 5
}
