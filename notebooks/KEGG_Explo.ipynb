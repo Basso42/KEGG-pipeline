{
 "cells": [
  {
   "cell_type": "code",
   "execution_count": 1,
   "id": "94f3118e-b303-4ebb-a9c2-743711794f7a",
   "metadata": {},
   "outputs": [
    {
     "name": "stdout",
     "output_type": "stream",
     "text": [
      "Collecting ReportLab\n",
      "  Obtaining dependency information for ReportLab from https://files.pythonhosted.org/packages/7e/4b/f1d01a4e2712310ebb4715d38d01c5c72ce0fe27cc4540b9c1fd54a6d1df/reportlab-4.0.6-py3-none-any.whl.metadata\n",
      "  Downloading reportlab-4.0.6-py3-none-any.whl.metadata (1.3 kB)\n",
      "Requirement already satisfied: pillow>=9.0.0 in /opt/mamba/lib/python3.11/site-packages (from ReportLab) (10.0.1)\n",
      "Downloading reportlab-4.0.6-py3-none-any.whl (1.9 MB)\n",
      "\u001b[2K   \u001b[90m━━━━━━━━━━━━━━━━━━━━━━━━━━━━━━━━━━━━━━━━\u001b[0m \u001b[32m1.9/1.9 MB\u001b[0m \u001b[31m12.9 MB/s\u001b[0m eta \u001b[36m0:00:00\u001b[0m00:01\u001b[0m00:01\u001b[0m\n",
      "\u001b[?25hInstalling collected packages: ReportLab\n",
      "Successfully installed ReportLab-4.0.6\n",
      "Collecting Bio\n",
      "  Downloading bio-1.5.9-py3-none-any.whl (276 kB)\n",
      "\u001b[2K     \u001b[90m━━━━━━━━━━━━━━━━━━━━━━━━━━━━━━━━━━━━━━━\u001b[0m \u001b[32m276.4/276.4 kB\u001b[0m \u001b[31m9.4 MB/s\u001b[0m eta \u001b[36m0:00:00\u001b[0m\n",
      "\u001b[?25hCollecting biopython>=1.80 (from Bio)\n",
      "  Downloading biopython-1.81-cp311-cp311-manylinux_2_17_x86_64.manylinux2014_x86_64.whl (3.1 MB)\n",
      "\u001b[2K     \u001b[90m━━━━━━━━━━━━━━━━━━━━━━━━━━━━━━━━━━━━━━━━\u001b[0m \u001b[32m3.1/3.1 MB\u001b[0m \u001b[31m35.1 MB/s\u001b[0m eta \u001b[36m0:00:00\u001b[0m00:01\u001b[0m00:01\u001b[0m\n",
      "\u001b[?25hRequirement already satisfied: requests in /opt/mamba/lib/python3.11/site-packages (from Bio) (2.31.0)\n",
      "Requirement already satisfied: tqdm in /opt/mamba/lib/python3.11/site-packages (from Bio) (4.66.1)\n",
      "Collecting mygene (from Bio)\n",
      "  Downloading mygene-3.2.2-py2.py3-none-any.whl (5.4 kB)\n",
      "Requirement already satisfied: pandas in /opt/mamba/lib/python3.11/site-packages (from Bio) (2.1.1)\n",
      "Collecting pooch (from Bio)\n",
      "  Downloading pooch-1.7.0-py3-none-any.whl (60 kB)\n",
      "\u001b[2K     \u001b[90m━━━━━━━━━━━━━━━━━━━━━━━━━━━━━━━━━━━━━━━━\u001b[0m \u001b[32m60.9/60.9 kB\u001b[0m \u001b[31m2.6 MB/s\u001b[0m eta \u001b[36m0:00:00\u001b[0m\n",
      "\u001b[?25hCollecting gprofiler-official (from Bio)\n",
      "  Downloading gprofiler_official-1.0.0-py3-none-any.whl (9.3 kB)\n",
      "Requirement already satisfied: numpy in /opt/mamba/lib/python3.11/site-packages (from biopython>=1.80->Bio) (1.24.4)\n",
      "Collecting biothings-client>=0.2.6 (from mygene->Bio)\n",
      "  Downloading biothings_client-0.3.0-py2.py3-none-any.whl (29 kB)\n",
      "Requirement already satisfied: python-dateutil>=2.8.2 in /opt/mamba/lib/python3.11/site-packages (from pandas->Bio) (2.8.2)\n",
      "Requirement already satisfied: pytz>=2020.1 in /opt/mamba/lib/python3.11/site-packages (from pandas->Bio) (2023.3.post1)\n",
      "Requirement already satisfied: tzdata>=2022.1 in /opt/mamba/lib/python3.11/site-packages (from pandas->Bio) (2023.3)\n",
      "Requirement already satisfied: platformdirs>=2.5.0 in /opt/mamba/lib/python3.11/site-packages (from pooch->Bio) (3.11.0)\n",
      "Requirement already satisfied: packaging>=20.0 in /opt/mamba/lib/python3.11/site-packages (from pooch->Bio) (23.1)\n",
      "Requirement already satisfied: charset-normalizer<4,>=2 in /opt/mamba/lib/python3.11/site-packages (from requests->Bio) (3.2.0)\n",
      "Requirement already satisfied: idna<4,>=2.5 in /opt/mamba/lib/python3.11/site-packages (from requests->Bio) (3.4)\n",
      "Requirement already satisfied: urllib3<3,>=1.21.1 in /opt/mamba/lib/python3.11/site-packages (from requests->Bio) (1.26.17)\n",
      "Requirement already satisfied: certifi>=2017.4.17 in /opt/mamba/lib/python3.11/site-packages (from requests->Bio) (2023.7.22)\n",
      "Requirement already satisfied: six>=1.5 in /opt/mamba/lib/python3.11/site-packages (from python-dateutil>=2.8.2->pandas->Bio) (1.16.0)\n",
      "Installing collected packages: biopython, pooch, gprofiler-official, biothings-client, mygene, Bio\n",
      "Successfully installed Bio-1.5.9 biopython-1.81 biothings-client-0.3.0 gprofiler-official-1.0.0 mygene-3.2.2 pooch-1.7.0\n"
     ]
    }
   ],
   "source": [
    "!pip install ReportLab\n",
    "!pip install Bio"
   ]
  },
  {
   "cell_type": "code",
   "execution_count": 3,
   "id": "d9d231ed-7e9d-4a84-9581-3c834982f51f",
   "metadata": {},
   "outputs": [],
   "source": [
    "# Show plots as part of the notebook\n",
    "%matplotlib inline\n",
    "\n",
    "# Show images inline\n",
    "from IPython.display import Image\n",
    "\n",
    "# Standard library packages\n",
    "import io\n",
    "import os\n",
    "import re\n",
    "\n",
    "# Import Biopython modules to interact with KEGG\n",
    "from Bio import SeqIO\n",
    "from Bio.KEGG import REST\n",
    "from Bio.KEGG.KGML import KGML_parser\n",
    "from Bio.Graphics.KGML_vis import KGMLCanvas\n",
    "\n",
    "# Import Pandas, so we can use dataframes\n",
    "import pandas as pd"
   ]
  },
  {
   "cell_type": "code",
   "execution_count": 3,
   "id": "8d271b2b-5212-4580-a2c9-fc5c51df3d52",
   "metadata": {},
   "outputs": [],
   "source": [
    "# A bit of code that will help us display the PDF output\n",
    "def PDF(filename):\n",
    "    return HTML('<iframe src=%s width=700 height=350></iframe>' % filename)\n",
    "\n",
    "# Some code to return a Pandas dataframe, given tabular text\n",
    "def to_df(result):\n",
    "    return pd.read_table(io.StringIO(result), header=None)"
   ]
  },
  {
   "cell_type": "code",
   "execution_count": 9,
   "id": "1b025cc0-36a5-465d-a9be-76d324405e7d",
   "metadata": {},
   "outputs": [],
   "source": [
    "text = REST.kegg_info(\"kegg\").read()"
   ]
  },
  {
   "cell_type": "code",
   "execution_count": 5,
   "id": "b837a1bd-85b0-43b8-841b-9caac76dbdb9",
   "metadata": {},
   "outputs": [
    {
     "name": "stdout",
     "output_type": "stream",
     "text": [
      "CPU times: user 6 µs, sys: 9 µs, total: 15 µs\n",
      "Wall time: 29.1 µs\n",
      "ENTRY       KSE_17560         CDS       T01648\n",
      "SYMBOL      dxs1\n",
      "NAME        (GenBank) putative 1-deoxy-D-xylulose-5-phosphate synthase\n",
      "ORTHOLOGY   K01662  1-deoxy-D-xylulose-5-phosphate synthase [EC:2.2.1.7]\n",
      "ORGANISM    ksk  Kitasatospora setae\n",
      "PATHWAY     ksk00730  Thiamine metabolism\n",
      "            ksk00900  Terpenoid backbone biosynthesis\n",
      "            ksk01100  Metabolic pathways\n",
      "            ksk01110  Biosynthesis of secondary metabolites\n",
      "MODULE      ksk_M00096  C5 isoprenoid biosynthesis, non-mevalonate pathway\n",
      "BRITE       KEGG Orthology (KO) [BR:ksk00001]\n",
      "             09100 Metabolism\n",
      "              09108 Metabolism of cofactors and vitamins\n",
      "               00730 Thiamine metabolism\n",
      "                KSE_17560 (dxs1)\n",
      "              09109 Metabolism of terpenoids and polyketides\n",
      "               00900 Terpenoid backbone biosynthesis\n",
      "                KSE_17560 (dxs1)\n",
      "            Enzymes [BR:ksk01000]\n",
      "             2. Transferases\n",
      "              2.2  Transferring aldehyde or ketonic groups\n",
      "               2.2.1  Transketolases and transaldolases\n",
      "                2.2.1.7  1-deoxy-D-xylulose-5-phosphate synthase\n",
      "                 KSE_17560 (dxs1)\n",
      "POSITION    complement(1952373..1954298)\n",
      "MOTIF       Pfam: DXP_synthase_N Transket_pyr Transketolase_C E1_dh TPP_enzyme_C Transketolase_N PFOR_II DUF4054\n",
      "DBLINKS     NCBI-ProteinID: BAJ27580\n",
      "            NITE: KSE_17560\n",
      "            UniProt: E4N8P9\n",
      "AASEQ       641\n",
      "            MPLLSQITGPADLRRLHPEQLPLLADEIRDFLIDAVTRTGGHLGPNLGVVELSIALHRVF\n",
      "            DSPRDRVLWDTGHQAYVHKLLTGRQDFSRLRAKDGLSGYPSRAESEHDLIENSHASTALG\n",
      "            YADGIAKANQLLGADRHTVAVIGDGALTGGMAWEALNNIAEAEDRPLVIVVNDNERSYAP\n",
      "            TIGGLAHHLATLRTTRGYERFLAWGKDALQRTPVVGPPLFDALHGAKKGFKDAFAPQGMF\n",
      "            EDLGLKYLGPIDGHDIAAVEQALRQARNFGGPVIVHCLTVKGRGYRPAEQDEADRFHAVG\n",
      "            PIDPYTCLPISPSAGASWTSVFSQEMLALGAERPDLVAVTAAMLHPVGLGPFAAAHPGRT\n",
      "            YDVGIAEQHAVASAAGLATGGLHPVVAVYATFLNRAFDQVLMDVALHKLGVTFVLDRAGV\n",
      "            TGNDGASHNGMWDMSILQVVPGLRLAAPRDADRLREQLREAVAVEDAPTVVRFPKGDLGP\n",
      "            EIPAVERIGGVDVLARTGPSPDVLLVAVGSMAPACLDAAALLAAEGITATVVDPRWVKPV\n",
      "            DPALVALAAAHRMVVTVEDNGRAGGVGAAVAQAMRDAEVDTPLRDLGVPQEFLAHASRGE\n",
      "            ILEEIGLTGTGVAAQTAAYARRLLPGTRSGAQEYRPRVPRK\n",
      "NTSEQ       1926\n",
      "            atgccactgctgagccagatcaccgggcccgccgacctcagacgactgcaccccgagcag\n",
      "            ctgccgctgctcgccgacgagatccgcgacttcctgatcgacgccgtcacccgcaccggc\n",
      "            ggccacctcggccccaacctcggcgtggtcgagctcagcatcgccctacaccgggtcttc\n",
      "            gactccccgcgcgaccgcgtcctgtgggacaccggccaccaggcctacgtgcacaagctg\n",
      "            ctcaccggccggcaggacttcagccggctgcgcgccaaggacggcctctccggctacccc\n",
      "            tcgcgcgccgagtccgaacacgacctgatcgagaactcgcacgcctccaccgcgctcggc\n",
      "            tacgccgacggcatcgccaaggccaaccaactgctcggcgccgaccggcacaccgtcgcc\n",
      "            gtgatcggcgacggcgcgctcaccggcggcatggcctgggaggcgctcaacaacatcgcc\n",
      "            gaggccgaggaccgcccgctggtcatcgtcgtcaacgacaacgagcgctcctacgcgccc\n",
      "            accatcggcggcctcgcccaccacctcgccaccctgcgcaccacccgcggctacgagcgc\n",
      "            ttcctcgcctggggcaaggacgccctgcagcgcacccccgtggtcgggccgccgctgttc\n",
      "            gacgcgctgcacggcgccaagaagggcttcaaggacgccttcgccccgcagggcatgttc\n",
      "            gaggacctcggtctgaagtacctcggcccgatcgacggccacgacatcgccgccgtcgaa\n",
      "            caggcgctgcgccaggcccggaacttcggcgggcccgtcatcgtgcactgcctgaccgtc\n",
      "            aagggccgcggctaccggcccgccgagcaggacgaggccgaccgcttccacgccgtcggc\n",
      "            ccgatcgacccgtacacctgcctgccgatctcgccgtccgccggggcctcctggacttcg\n",
      "            gtgttcagccaggagatgctcgccctcggcgccgagcggcccgacctggtcgccgtcacc\n",
      "            gccgcgatgctgcaccccgtcgggctcggcccgttcgccgccgcgcaccccgggcggacc\n",
      "            tacgacgtcgggatcgccgagcagcacgccgtcgcctccgccgccggcctggccaccggg\n",
      "            gggctgcaccccgtcgtcgcggtgtacgcgaccttcctgaaccgggccttcgaccaggtg\n",
      "            ctgatggacgtcgcgctgcacaagctgggcgtcaccttcgtgctcgaccgggccggggtc\n",
      "            accggcaacgacggggcctcgcacaacggcatgtgggacatgtcgatcctgcaggtcgtg\n",
      "            cccgggctgcggctggccgcgccgcgcgacgccgaccggctgcgcgaacagctccgggag\n",
      "            gccgtcgcggtcgaggacgcgcccaccgtggtgcgcttccccaagggcgacctcggcccc\n",
      "            gagatcccggcggtcgagcggatcggcggcgtcgacgtgctggcccgcaccggccccagc\n",
      "            cccgacgtgctgctggtcgccgtcggctcgatggcccccgcctgcctggacgccgccgcg\n",
      "            ctgctcgccgccgagggcatcaccgccaccgtcgtcgacccgcgctgggtcaagcccgtc\n",
      "            gaccccgccctcgtcgcgctggccgccgcgcaccggatggtggtcaccgtcgaggacaac\n",
      "            gggcgggccggcggcgtcggcgccgccgtcgcccaggcgatgcgggacgccgaggtcgac\n",
      "            accccgctgcgcgacctcggcgtcccgcaggagttcctggcgcacgcctcgcgcggtgag\n",
      "            atcctggaggagatcggactcaccggcaccggcgtcgccgcccagaccgccgcctacgcc\n",
      "            cgccgcctgctgcccggcacccggagcggcgcccaggagtaccggccccgggtgccgcgc\n",
      "            aagtag\n",
      "///\n",
      "ENTRY       Z5100             CDS       T00044\n",
      "SYMBOL      espF\n",
      "NAME        (GenBank) espF\n",
      "ORTHOLOGY   K12786  LEE-encoded effector EspF\n",
      "ORGANISM    ece  Escherichia coli O157:H7 EDL933 (EHEC)\n",
      "PATHWAY     ece05130  Pathogenic Escherichia coli infection\n",
      "MODULE      ece_M00542  EHEC/EPEC pathogenicity signature, T3SS and effectors\n",
      "BRITE       KEGG Orthology (KO) [BR:ece00001]\n",
      "             09160 Human Diseases\n",
      "              09171 Infectious disease: bacterial\n",
      "               05130 Pathogenic Escherichia coli infection\n",
      "                Z5100 (espF)\n",
      "POSITION    complement(4658240..4658986)\n",
      "MOTIF       Pfam: EspF\n",
      "DBLINKS     NCBI-ProteinID: AAG58814\n",
      "            UniProt: A0A4P8B4C9\n",
      "AASEQ       248\n",
      "            MLNGISNAASTLGRQLVGIASRVSSAGGTGFSVAPQAVRLTPVKVHSPFSPGSSNVNART\n",
      "            IFNVSSQVTSFTPSRPAPPPPTSGQASGASRPLPPIAQALKEHLAAYEKSKGPEALGFKP\n",
      "            ARQAPPPPTSGQASGASRPLPPIAQALKEHLAAYEKSKGPEALGFKPARQAPPPPTSGQA\n",
      "            SGASRPLPPIAQALKEHLAAYEKSKGPEALGFKPARQAPPPPTGPSGLPPLAQALKDHLA\n",
      "            AYEQSKKG\n",
      "NTSEQ       747\n",
      "            atgcttaatggaattagtaacgctgcttctacactagggcggcagcttgtaggtatcgca\n",
      "            agtcgagtgagctctgcggggggaactggattttctgtagcccctcaggccgtgcgtctt\n",
      "            actccggtgaaagttcattcccctttttctccaggctcgtcgaatgttaatgcgagaacg\n",
      "            atttttaatgtgagcagccaggtgacttcatttactccctctcgtccggcaccgccgcca\n",
      "            ccgacaagtggacaggcatccggggcatcccgacctttaccgcccattgcacaggcatta\n",
      "            aaagagcacttggctgcctatgaaaaatcgaaaggtcctgaggctttaggttttaagccc\n",
      "            gcccgtcaggcaccgccgccaccgacaagtggacaggcatccggggcatcccgaccttta\n",
      "            ccgcccattgcacaggcattaaaagagcacttggctgcctatgaaaaatcgaaaggtcct\n",
      "            gaggctttaggttttaagcccgcccgtcaggcaccgccgccaccgacaagtggacaggca\n",
      "            tccggggcatcccgacctttaccgcccattgcacaggcattaaaagagcacttggctgcc\n",
      "            tatgaaaaatcgaaaggtcctgaggctttaggttttaagcccgcccgtcaggcaccaccg\n",
      "            ccaccgacagggcctagtggactaccgccccttgcacaggcattaaaagatcatttagct\n",
      "            gcctatgagcaatcgaagaaagggtaa\n",
      "///\n",
      "\n"
     ]
    }
   ],
   "source": [
    "%time\n",
    "result = REST.kegg_get(\"ksk:KSE_17560+ece:Z5100\").read()\n",
    "print(result)"
   ]
  },
  {
   "cell_type": "code",
   "execution_count": 14,
   "id": "4d1aa960-33fe-4131-92f0-87c4ee80d75f",
   "metadata": {},
   "outputs": [
    {
     "name": "stdout",
     "output_type": "stream",
     "text": [
      "K0: K01662\n",
      "NTSEQ Length: 1926\n",
      "NTSEQ Value: a\n"
     ]
    }
   ],
   "source": [
    "k0_match = re.search(r'ORTHOLOGY\\s+(\\S+)', result)\n",
    "ntseq_match = re.search(r'NTSEQ\\s+(\\d+)\\s+([\\s\\S]+?)(?=\\S+\\s|$)', result)\n",
    "\n",
    "if k0_match:\n",
    "    k0_value = k0_match.group(1)\n",
    "    print(f\"K0: {k0_value}\")\n",
    "\n",
    "if ntseq_match:\n",
    "    ntseq_length = ntseq_match.group(1)\n",
    "    ntseq_value = ntseq_match.group(2).replace('\\n', '').replace(' ', '')\n",
    "    print(f\"NTSEQ Length: {ntseq_length}\")\n",
    "    print(f\"NTSEQ Value: {ntseq_value}\")"
   ]
  },
  {
   "cell_type": "code",
   "execution_count": 16,
   "id": "69cb5251-1992-48da-b86a-54b85ee8be65",
   "metadata": {},
   "outputs": [
    {
     "data": {
      "text/plain": [
       "<re.Match object; span=(135, 153), match='ORTHOLOGY   K01662'>"
      ]
     },
     "execution_count": 16,
     "metadata": {},
     "output_type": "execute_result"
    }
   ],
   "source": [
    "k0_match"
   ]
  },
  {
   "cell_type": "code",
   "execution_count": 12,
   "id": "da692fc9-829f-4cf1-a553-c3978a8b1035",
   "metadata": {},
   "outputs": [
    {
     "data": {
      "text/html": [
       "<div>\n",
       "<style scoped>\n",
       "    .dataframe tbody tr th:only-of-type {\n",
       "        vertical-align: middle;\n",
       "    }\n",
       "\n",
       "    .dataframe tbody tr th {\n",
       "        vertical-align: top;\n",
       "    }\n",
       "\n",
       "    .dataframe thead th {\n",
       "        text-align: right;\n",
       "    }\n",
       "</style>\n",
       "<table border=\"1\" class=\"dataframe\">\n",
       "  <thead>\n",
       "    <tr style=\"text-align: right;\">\n",
       "      <th></th>\n",
       "      <th>0</th>\n",
       "    </tr>\n",
       "  </thead>\n",
       "  <tbody>\n",
       "    <tr>\n",
       "      <th>0</th>\n",
       "      <td>ENTRY       KSE_17560         CDS       T01648</td>\n",
       "    </tr>\n",
       "    <tr>\n",
       "      <th>1</th>\n",
       "      <td>SYMBOL      dxs1</td>\n",
       "    </tr>\n",
       "    <tr>\n",
       "      <th>2</th>\n",
       "      <td>NAME        (GenBank) putative 1-deoxy-D-xylul...</td>\n",
       "    </tr>\n",
       "    <tr>\n",
       "      <th>3</th>\n",
       "      <td>ORTHOLOGY   K01662  1-deoxy-D-xylulose-5-phosp...</td>\n",
       "    </tr>\n",
       "    <tr>\n",
       "      <th>4</th>\n",
       "      <td>ORGANISM    ksk  Kitasatospora setae</td>\n",
       "    </tr>\n",
       "    <tr>\n",
       "      <th>...</th>\n",
       "      <td>...</td>\n",
       "    </tr>\n",
       "    <tr>\n",
       "      <th>71</th>\n",
       "      <td>accccgctgcgcgacctcggcgtcccgcaggagt...</td>\n",
       "    </tr>\n",
       "    <tr>\n",
       "      <th>72</th>\n",
       "      <td>atcctggaggagatcggactcaccggcaccggcg...</td>\n",
       "    </tr>\n",
       "    <tr>\n",
       "      <th>73</th>\n",
       "      <td>cgccgcctgctgcccggcacccggagcggcgccc...</td>\n",
       "    </tr>\n",
       "    <tr>\n",
       "      <th>74</th>\n",
       "      <td>aagtag</td>\n",
       "    </tr>\n",
       "    <tr>\n",
       "      <th>75</th>\n",
       "      <td>///</td>\n",
       "    </tr>\n",
       "  </tbody>\n",
       "</table>\n",
       "<p>76 rows × 1 columns</p>\n",
       "</div>"
      ],
      "text/plain": [
       "                                                    0\n",
       "0      ENTRY       KSE_17560         CDS       T01648\n",
       "1                                    SYMBOL      dxs1\n",
       "2   NAME        (GenBank) putative 1-deoxy-D-xylul...\n",
       "3   ORTHOLOGY   K01662  1-deoxy-D-xylulose-5-phosp...\n",
       "4                ORGANISM    ksk  Kitasatospora setae\n",
       "..                                                ...\n",
       "71              accccgctgcgcgacctcggcgtcccgcaggagt...\n",
       "72              atcctggaggagatcggactcaccggcaccggcg...\n",
       "73              cgccgcctgctgcccggcacccggagcggcgccc...\n",
       "74                                             aagtag\n",
       "75                                                ///\n",
       "\n",
       "[76 rows x 1 columns]"
      ]
     },
     "execution_count": 12,
     "metadata": {},
     "output_type": "execute_result"
    }
   ],
   "source": [
    "to_df(result)"
   ]
  },
  {
   "cell_type": "code",
   "execution_count": 11,
   "id": "a67009db-ec57-4d95-8a2a-a1dce694684d",
   "metadata": {},
   "outputs": [
    {
     "name": "stdout",
     "output_type": "stream",
     "text": [
      "kegg             Kyoto Encyclopedia of Genes and Genomes\n",
      "kegg             Release 108.0+/09-29, Sep 23\n",
      "                 Kanehisa Laboratories\n",
      "                 pathway   1,086,943 entries\n",
      "                 brite       364,194 entries\n",
      "                 module          559 entries\n",
      "                 orthology    26,248 entries\n",
      "                 genome       24,096 entries\n",
      "                 genes     50,241,942 entries\n",
      "                 compound     19,136 entries\n",
      "                 glycan       11,222 entries\n",
      "                 reaction     11,965 entries\n",
      "                 rclass        3,194 entries\n",
      "                 enzyme        8,077 entries\n",
      "                 network       1,514 entries\n",
      "                 variant       1,212 entries\n",
      "                 disease       2,653 entries\n",
      "                 drug         12,228 entries\n",
      "                 dgroup        2,436 entries\n",
      "\n"
     ]
    }
   ],
   "source": [
    "result = REST.kegg_info(\"kegg\").read()\n",
    "\n",
    "# Print the result\n",
    "print(result)"
   ]
  },
  {
   "cell_type": "code",
   "execution_count": 12,
   "id": "cd6c0612-606a-4e10-bfcc-3dbdad2dfc5f",
   "metadata": {},
   "outputs": [
    {
     "data": {
      "text/html": [
       "<div>\n",
       "<style scoped>\n",
       "    .dataframe tbody tr th:only-of-type {\n",
       "        vertical-align: middle;\n",
       "    }\n",
       "\n",
       "    .dataframe tbody tr th {\n",
       "        vertical-align: top;\n",
       "    }\n",
       "\n",
       "    .dataframe thead th {\n",
       "        text-align: right;\n",
       "    }\n",
       "</style>\n",
       "<table border=\"1\" class=\"dataframe\">\n",
       "  <thead>\n",
       "    <tr style=\"text-align: right;\">\n",
       "      <th></th>\n",
       "      <th>0</th>\n",
       "      <th>1</th>\n",
       "    </tr>\n",
       "  </thead>\n",
       "  <tbody>\n",
       "    <tr>\n",
       "      <th>0</th>\n",
       "      <td>ksk:KSE_17560</td>\n",
       "      <td>dxs1; putative 1-deoxy-D-xylulose-5-phosphate ...</td>\n",
       "    </tr>\n",
       "  </tbody>\n",
       "</table>\n",
       "</div>"
      ],
      "text/plain": [
       "               0                                                  1\n",
       "0  ksk:KSE_17560  dxs1; putative 1-deoxy-D-xylulose-5-phosphate ..."
      ]
     },
     "execution_count": 12,
     "metadata": {},
     "output_type": "execute_result"
    }
   ],
   "source": [
    "# Find a specific entry with a precise search term\n",
    "result = REST.kegg_find(\"genes\", \"KSE_17560\").read()\n",
    "to_df(result)"
   ]
  },
  {
   "cell_type": "code",
   "execution_count": 13,
   "id": "f2998d60-9b3a-40aa-a660-25bb8cd9ac2c",
   "metadata": {},
   "outputs": [
    {
     "data": {
      "image/png": "[encoded data removed]",
      "text/plain": [
       "<IPython.core.display.Image object>"
      ]
     },
     "execution_count": 13,
     "metadata": {},
     "output_type": "execute_result"
    }
   ],
   "source": [
    "# Display molecular structure for cpd:C00051\n",
    "result = REST.kegg_get(\"cpd:C00051\", \"image\").read()\n",
    "Image(result)"
   ]
  },
  {
   "cell_type": "code",
   "execution_count": 14,
   "id": "bee6a9a6-2b49-4108-a911-25659867768c",
   "metadata": {},
   "outputs": [
    {
     "data": {
      "image/png": "[encoded data removed]",
      "text/plain": [
       "<IPython.core.display.Image object>"
      ]
     },
     "execution_count": 14,
     "metadata": {},
     "output_type": "execute_result"
    }
   ],
   "source": [
    "# Get map of fatty-acid biosynthesis\n",
    "result = REST.kegg_get(\"map00061\", \"image\").read()\n",
    "Image(result)"
   ]
  }
 ],
 "metadata": {
  "kernelspec": {
   "display_name": "Python 3 (ipykernel)",
   "language": "python",
   "name": "python3"
  },
  "language_info": {
   "codemirror_mode": {
    "name": "ipython",
    "version": 3
   },
   "file_extension": ".py",
   "mimetype": "text/x-python",
   "name": "python",
   "nbconvert_exporter": "python",
   "pygments_lexer": "ipython3",
   "version": "3.11.4"
  }
 },
 "nbformat": 4,
 "nbformat_minor": 5
}
